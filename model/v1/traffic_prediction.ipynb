{
 "cells": [
  {
   "cell_type": "code",
   "execution_count": 1,
   "metadata": {},
   "outputs": [],
   "source": [
    "from sklearn.model_selection import train_test_split\n",
    "from sklearn.preprocessing import MinMaxScaler\n",
    "import os\n",
    "import pandas as pd\n",
    "import numpy as np\n",
    "from ..constants import Paths, Headers, Constants"
   ]
  },
  {
   "cell_type": "code",
   "execution_count": 98,
   "metadata": {},
   "outputs": [],
   "source": [
    "learning_rate = 0.000001\n",
    "epochs = 100\n",
    "batch_size = 32"
   ]
  },
  {
   "cell_type": "code",
   "execution_count": 99,
   "metadata": {},
   "outputs": [],
   "source": [
    "if not os.path.exists(Paths.filtered_csv):\n",
    "    os.mkdir(Paths.data_dir) if not os.path.exists(Paths.data_dir) else ...\n",
    "    ds = pd.read_csv(Paths.data_csv, header=None, names=list(Headers.headers.keys()), dtype=Headers.headers)\n",
    "    for h in Headers.garbage_headers:\n",
    "        ds.drop(columns=h, inplace=True)\n",
    "    ds.drop(ds.index[0], axis=\"index\", inplace=True)\n",
    "    for column in Headers.needed_headers.keys():\n",
    "        ds[column].astype(int, copy=False)\n",
    "    ds.to_csv(Paths.filtered_csv, header=None, index=None)"
   ]
  },
  {
   "cell_type": "code",
   "execution_count": 100,
   "metadata": {},
   "outputs": [],
   "source": [
    "ds = pd.read_csv(Paths.filtered_csv, header=None, names=list(Headers.needed_headers.keys()), dtype=Headers.needed_headers)"
   ]
  },
  {
   "cell_type": "code",
   "execution_count": 101,
   "metadata": {},
   "outputs": [],
   "source": [
    "if not os.path.exists(Paths.segments_dir):\n",
    "    os.mkdir(Paths.segments_dir)\n",
    "    for segmentID in ds[\"SegmentID\"].unique():\n",
    "        ds.loc[ds[\"SegmentID\"] == segmentID].to_csv(Paths.segment_csv.format(segmentID), header=None, index=None)"
   ]
  },
  {
   "cell_type": "code",
   "execution_count": 102,
   "metadata": {},
   "outputs": [],
   "source": [
    "segmentID = 83624  # Largest Segment\n",
    "\n",
    "ds = pd.read_csv(Paths.segment_csv.format(segmentID), header=None, names=list(Headers.needed_headers.keys()), dtype=Headers.needed_headers)\n",
    "ds.drop(columns=\"SegmentID\", inplace=True)"
   ]
  },
  {
   "cell_type": "code",
   "execution_count": 103,
   "metadata": {},
   "outputs": [],
   "source": [
    "lookup_hash = {}\n",
    "\n",
    "dep = ds[\"Vol\"]\n",
    "ds.drop(columns=\"Vol\", inplace=True)  # independent variable\n",
    "\n",
    "for c in Constants.categories:\n",
    "    lookup_hash[c] = ds[c].astype(\"category\").cat.categories\n",
    "    ds[c] = ds[c].astype(\"category\", copy=False).cat.codes"
   ]
  },
  {
   "cell_type": "code",
   "execution_count": 104,
   "metadata": {},
   "outputs": [],
   "source": [
    "dep_max = dep.max()\n",
    "dep_min = dep.min()\n",
    "\n",
    "mms = MinMaxScaler()\n",
    "dep = mms.fit_transform(dep.values.reshape(-1, 1))"
   ]
  },
  {
   "cell_type": "code",
   "execution_count": 105,
   "metadata": {},
   "outputs": [],
   "source": [
    "ind_train, ind_test, dep_train, dep_test = train_test_split(ds, dep, test_size=0.2)"
   ]
  },
  {
   "cell_type": "code",
   "execution_count": 106,
   "metadata": {},
   "outputs": [],
   "source": [
    "def mse_loss(actual, predicted):\n",
    "    return np.mean(np.square(actual - predicted))"
   ]
  },
  {
   "cell_type": "code",
   "execution_count": 107,
   "metadata": {},
   "outputs": [],
   "source": [
    "def sgd_update(ind_batch, dep_batch, weights, bias):\n",
    "    # Forward pass\n",
    "    predictions = np.dot(ind_batch, weights) + bias\n",
    "    # Calculate gradients\n",
    "    d_loss_d_predictions = 2 * (predictions - dep_batch)  # Derivative of MSE loss w.r.t. predictions\n",
    "    de_predictions_d_weights = ind_batch  # Derivative of predictions w.r.t weights\n",
    "    d_loss_d_bias = np.sum(d_loss_d_predictions)  # Derivative of MSE loss w.r.t. bias\n",
    "\n",
    "    # Update weights and bias using SGD\n",
    "    weights -= learning_rate * np.mean(de_predictions_d_weights, axis=0)\n",
    "    bias -= learning_rate * d_loss_d_bias\n",
    "\n",
    "    return weights, bias"
   ]
  },
  {
   "cell_type": "code",
   "execution_count": 108,
   "metadata": {},
   "outputs": [
    {
     "name": "stdout",
     "output_type": "stream",
     "text": [
      "[0.20428375 0.09480842 0.10924289 0.16628508 0.69468387] 0\n"
     ]
    }
   ],
   "source": [
    "weights = np.random.rand(ds.shape[1])\n",
    "bias = 0\n",
    "\n",
    "print(weights, bias)"
   ]
  },
  {
   "cell_type": "code",
   "execution_count": 109,
   "metadata": {},
   "outputs": [],
   "source": [
    "ind_batch = ind_train[:batch_size]\n",
    "dep_batch = dep_train[:batch_size]\n",
    "\n",
    "weights, bias = sgd_update(ind_batch, dep_batch, weights, bias)"
   ]
  },
  {
   "cell_type": "code",
   "execution_count": 110,
   "metadata": {},
   "outputs": [
    {
     "name": "stdout",
     "output_type": "stream",
     "text": [
      "Epoch 1/100, Training Loss: 8.857815945567538\n",
      "Epoch 2/100, Training Loss: 4.120075227096472\n",
      "Epoch 3/100, Training Loss: 2.6807697870151346\n",
      "Epoch 4/100, Training Loss: 2.230701626900895\n",
      "Epoch 5/100, Training Loss: 2.066407992832806\n",
      "Epoch 6/100, Training Loss: 1.9788821725841557\n",
      "Epoch 7/100, Training Loss: 1.9090780819881545\n",
      "Epoch 8/100, Training Loss: 1.8421193924724637\n",
      "Epoch 9/100, Training Loss: 1.7753803072773051\n",
      "Epoch 10/100, Training Loss: 1.7091798393457849\n",
      "Epoch 11/100, Training Loss: 1.6442580213504954\n",
      "Epoch 12/100, Training Loss: 1.5812054383421612\n",
      "Epoch 13/100, Training Loss: 1.5204081283678283\n",
      "Epoch 14/100, Training Loss: 1.4620996540285665\n",
      "Epoch 15/100, Training Loss: 1.4064162812272065\n",
      "Epoch 16/100, Training Loss: 1.3534360457489347\n",
      "Epoch 17/100, Training Loss: 1.3032031954616585\n",
      "Epoch 18/100, Training Loss: 1.2557426844846957\n",
      "Epoch 19/100, Training Loss: 1.2110685440705842\n",
      "Epoch 20/100, Training Loss: 1.1691886506805582\n",
      "Epoch 21/100, Training Loss: 1.1301074216956128\n",
      "Epoch 22/100, Training Loss: 1.0938273332525388\n",
      "Epoch 23/100, Training Loss: 1.0603497729351523\n",
      "Epoch 24/100, Training Loss: 1.0296755181957284\n",
      "Epoch 25/100, Training Loss: 1.0018050045953357\n",
      "Epoch 26/100, Training Loss: 0.9767384761410408\n",
      "Epoch 27/100, Training Loss: 0.9544760695249187\n",
      "Epoch 28/100, Training Loss: 0.9350178613203085\n",
      "Epoch 29/100, Training Loss: 0.9183638944223024\n",
      "Epoch 30/100, Training Loss: 0.9045141928599267\n",
      "Epoch 31/100, Training Loss: 0.8934687700936942\n",
      "Epoch 32/100, Training Loss: 0.8852276336639339\n",
      "Epoch 33/100, Training Loss: 0.8797907877945297\n",
      "Epoch 34/100, Training Loss: 0.8771582348516291\n",
      "Epoch 35/100, Training Loss: 0.8773299761606749\n",
      "Epoch 36/100, Training Loss: 0.8803060124641673\n",
      "Epoch 37/100, Training Loss: 0.8860863441780279\n",
      "Epoch 38/100, Training Loss: 0.8946709715352507\n",
      "Epoch 39/100, Training Loss: 0.9060598946663457\n",
      "Epoch 40/100, Training Loss: 0.9202531136444235\n",
      "Epoch 41/100, Training Loss: 0.9372506285104424\n",
      "Epoch 42/100, Training Loss: 0.9570524392873607\n",
      "Epoch 43/100, Training Loss: 0.9796585459880021\n",
      "Epoch 44/100, Training Loss: 1.0050689486195812\n",
      "Epoch 45/100, Training Loss: 1.0332836471861373\n",
      "Epoch 46/100, Training Loss: 1.0643026416899268\n",
      "Epoch 47/100, Training Loss: 1.0981259321321934\n",
      "Epoch 48/100, Training Loss: 1.1347535185136788\n",
      "Epoch 49/100, Training Loss: 1.1741854008347588\n",
      "Epoch 50/100, Training Loss: 1.2164215790956614\n",
      "Epoch 51/100, Training Loss: 1.2614620532965102\n",
      "Epoch 52/100, Training Loss: 1.3093068234373817\n",
      "Epoch 53/100, Training Loss: 1.359955889518305\n",
      "Epoch 54/100, Training Loss: 1.413409251539305\n",
      "Epoch 55/100, Training Loss: 1.4696669095003896\n",
      "Epoch 56/100, Training Loss: 1.528728863401582\n",
      "Epoch 57/100, Training Loss: 1.5905951132428693\n",
      "Epoch 58/100, Training Loss: 1.6552656590242674\n",
      "Epoch 59/100, Training Loss: 1.722740500745767\n",
      "Epoch 60/100, Training Loss: 1.793019638407368\n",
      "Epoch 61/100, Training Loss: 1.8661030720090888\n",
      "Epoch 62/100, Training Loss: 1.9419908015508909\n",
      "Epoch 63/100, Training Loss: 2.0206828270328145\n",
      "Epoch 64/100, Training Loss: 2.102179148454839\n",
      "Epoch 65/100, Training Loss: 2.1864797658169777\n",
      "Epoch 66/100, Training Loss: 2.2735846791192165\n",
      "Epoch 67/100, Training Loss: 2.3634938883615586\n",
      "Epoch 68/100, Training Loss: 2.456207393543999\n",
      "Epoch 69/100, Training Loss: 2.551725194666554\n",
      "Epoch 70/100, Training Loss: 2.650047291729226\n",
      "Epoch 71/100, Training Loss: 2.7511736847319996\n",
      "Epoch 72/100, Training Loss: 2.8551043736748776\n",
      "Epoch 73/100, Training Loss: 2.961839358557853\n",
      "Epoch 74/100, Training Loss: 3.071378639380953\n",
      "Epoch 75/100, Training Loss: 3.183722216144133\n",
      "Epoch 76/100, Training Loss: 3.2988700888474476\n",
      "Epoch 77/100, Training Loss: 3.4168222574908382\n",
      "Epoch 78/100, Training Loss: 3.537578722074334\n",
      "Epoch 79/100, Training Loss: 3.661139482597974\n",
      "Epoch 80/100, Training Loss: 3.7875045390616933\n",
      "Epoch 81/100, Training Loss: 3.9166738914654973\n",
      "Epoch 82/100, Training Loss: 4.048647539809453\n",
      "Epoch 83/100, Training Loss: 4.183425484093516\n",
      "Epoch 84/100, Training Loss: 4.321007724317665\n",
      "Epoch 85/100, Training Loss: 4.461394260481929\n",
      "Epoch 86/100, Training Loss: 4.604585092586317\n",
      "Epoch 87/100, Training Loss: 4.750580220630762\n",
      "Epoch 88/100, Training Loss: 4.899379644615367\n",
      "Epoch 89/100, Training Loss: 5.050983364540065\n",
      "Epoch 90/100, Training Loss: 5.20539138040486\n",
      "Epoch 91/100, Training Loss: 5.362603692209781\n",
      "Epoch 92/100, Training Loss: 5.52262029995476\n",
      "Epoch 93/100, Training Loss: 5.6854412036399005\n",
      "Epoch 94/100, Training Loss: 5.851066403265072\n",
      "Epoch 95/100, Training Loss: 6.01949589883045\n",
      "Epoch 96/100, Training Loss: 6.190729690335876\n",
      "Epoch 97/100, Training Loss: 6.3647677777814335\n",
      "Epoch 98/100, Training Loss: 6.541610161167072\n",
      "Epoch 99/100, Training Loss: 6.721256840492841\n",
      "Epoch 100/100, Training Loss: 6.9037078157587155\n"
     ]
    }
   ],
   "source": [
    "for epoch in range(epochs):\n",
    "    for i in range(0, len(ind_train), batch_size):\n",
    "        ind_batch = ind_train[i:i+batch_size]\n",
    "        dep_batch = dep_train[i:i+batch_size]\n",
    "        weights, bias = sgd_update(ind_batch, dep_batch, weights, bias)\n",
    "    train_loss = mse_loss(dep_train, np.dot(ind_train, weights) + bias)\n",
    "    print(f\"Epoch {epoch + 1}/{epochs}, Training Loss: {train_loss}\")"
   ]
  },
  {
   "cell_type": "code",
   "execution_count": 111,
   "metadata": {},
   "outputs": [
    {
     "name": "stdout",
     "output_type": "stream",
     "text": [
      "Test Loss: 7.2343398131883765\n"
     ]
    }
   ],
   "source": [
    "dep_predict = np.dot(ind_test, weights) + bias\n",
    "test_loss = mse_loss(dep_test, dep_predict)\n",
    "print(f\"Test Loss: {test_loss}\")"
   ]
  },
  {
   "cell_type": "code",
   "execution_count": 137,
   "metadata": {},
   "outputs": [],
   "source": [
    "def convert_to_original(normalized_val, max_origin, min_origin):\n",
    "    return float(\"{:.2f}\".format((normalized_val * (max_origin - min_origin)) + min_origin))"
   ]
  },
  {
   "cell_type": "code",
   "execution_count": 138,
   "metadata": {},
   "outputs": [
    {
     "name": "stdout",
     "output_type": "stream",
     "text": [
      "      Actual  Predicted\n",
      "0       25.0     777.44\n",
      "1       42.0    -468.10\n",
      "2       91.0      80.93\n",
      "3        6.0     322.96\n",
      "4       68.0    -858.46\n",
      "...      ...        ...\n",
      "2259    54.0      91.50\n",
      "2260    19.0     353.58\n",
      "2261    23.0    -273.63\n",
      "2262    36.0    -143.61\n",
      "2263    82.0    -138.81\n",
      "\n",
      "[2264 rows x 2 columns]\n"
     ]
    }
   ],
   "source": [
    "predicted_original_value = [convert_to_original(i, dep_max, dep_min) for i in dep_predict]\n",
    "actual_original_value = [convert_to_original(i[0], dep_max, dep_min) for i in dep_test]\n",
    "\n",
    "print(pd.DataFrame({\"Actual\": actual_original_value, \"Predicted\": predicted_original_value}))\n"
   ]
  },
  {
   "cell_type": "code",
   "execution_count": 114,
   "metadata": {},
   "outputs": [
    {
     "name": "stdout",
     "output_type": "stream",
     "text": [
      "198\n"
     ]
    }
   ],
   "source": [
    "print(dep_max)"
   ]
  },
  {
   "cell_type": "code",
   "execution_count": null,
   "metadata": {},
   "outputs": [],
   "source": []
  },
  {
   "cell_type": "code",
   "execution_count": null,
   "metadata": {},
   "outputs": [],
   "source": []
  }
 ],
 "metadata": {
  "kernelspec": {
   "display_name": "Python 3",
   "language": "python",
   "name": "python3"
  },
  "language_info": {
   "codemirror_mode": {
    "name": "ipython",
    "version": 3
   },
   "file_extension": ".py",
   "mimetype": "text/x-python",
   "name": "python",
   "nbconvert_exporter": "python",
   "pygments_lexer": "ipython3",
   "version": "3.10.13"
  }
 },
 "nbformat": 4,
 "nbformat_minor": 2
}
