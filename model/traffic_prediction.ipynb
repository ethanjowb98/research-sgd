{
 "cells": [
  {
   "cell_type": "code",
   "execution_count": 17,
   "metadata": {},
   "outputs": [],
   "source": [
    "import tensorflow as tf\n",
    "from keras.src.models import Sequential\n",
    "from keras.src.layers import Dense\n",
    "from keras.src.callbacks import TensorBoard\n",
    "from keras.api.models import save_model, load_model\n",
    "from sklearn.model_selection import train_test_split\n",
    "from sklearn.preprocessing import MinMaxScaler\n",
    "import os\n",
    "import pandas as pd"
   ]
  },
  {
   "cell_type": "code",
   "execution_count": 18,
   "metadata": {},
   "outputs": [],
   "source": [
    "data_path = \"../data\"\n",
    "csv_data = f\"{data_path}/data.csv\"\n",
    "filtered_data = f\"{data_path}/filtered.csv\"\n",
    "segment_path = f\"{data_path}/segments\"\n",
    "segment_data = segment_path + \"/segment_{}.csv\""
   ]
  },
  {
   "cell_type": "code",
   "execution_count": 25,
   "metadata": {},
   "outputs": [],
   "source": [
    "headers = {\n",
    "    \"RequestID\": str,\n",
    "    \"Boro\": str,\n",
    "    \"Yr\": str,\n",
    "    \"M\": str,\n",
    "    \"D\": str,\n",
    "    \"HH\": str,\n",
    "    \"MM\": str,\n",
    "    \"Vol\": str,\n",
    "    \"SegmentID\": str,\n",
    "    \"WktGeom\": str,\n",
    "    \"street\": str,\n",
    "    \"fromSt\": str,\n",
    "    \"toSt\": str,\n",
    "    \"Direction\": str\n",
    "}\n",
    "\n",
    "garbage_headers = [\n",
    "    \"RequestID\",\n",
    "    \"Boro\",\n",
    "    \"WktGeom\",\n",
    "    \"street\",\n",
    "    \"fromSt\",\n",
    "    \"toSt\",\n",
    "    \"Direction\"\n",
    "]\n",
    "\n",
    "needed_headers = {\n",
    "    \"Yr\": int,\n",
    "    \"M\": int,\n",
    "    \"D\": int,\n",
    "    \"HH\": int,\n",
    "    \"MM\": int,\n",
    "    \"Vol\": int,\n",
    "    \"SegmentID\": int,\n",
    "}\n",
    "\n",
    "if not os.path.exists(filtered_data):\n",
    "    os.mkdir(data_path) if not os.path.exists(data_path) else ...\n",
    "    ds = pd.read_csv(csv_data, header=None, names=list(headers.keys()), dtype=headers)\n",
    "    for h in garbage_headers:\n",
    "        ds.drop(columns=h, inplace=True)\n",
    "    ds.drop(ds.index[0], axis=\"index\", inplace=True)\n",
    "    for column in needed_headers.keys():\n",
    "        ds[column].astype(int, copy=False)\n",
    "    ds.to_csv(filtered_data, header=None, index=None)"
   ]
  },
  {
   "cell_type": "code",
   "execution_count": 26,
   "metadata": {},
   "outputs": [],
   "source": [
    "ds = pd.read_csv(filtered_data, header=None, names=list(needed_headers.keys()), dtype=needed_headers)"
   ]
  },
  {
   "cell_type": "code",
   "execution_count": 27,
   "metadata": {},
   "outputs": [],
   "source": [
    "if not os.path.exists(segment_path):\n",
    "    os.mkdir(segment_path)\n",
    "    for segmentID in ds[\"SegmentID\"].unique():\n",
    "        ds.loc[ds[\"SegmentID\"] == segmentID].to_csv(segment_data.format(segmentID), header=None, index=None)"
   ]
  },
  {
   "cell_type": "code",
   "execution_count": 41,
   "metadata": {},
   "outputs": [],
   "source": [
    "segmentID = 83624  # Largest Segment\n",
    "\n",
    "ds = pd.read_csv(segment_data.format(segmentID), header=None, names=list(needed_headers.keys()), dtype=needed_headers)\n",
    "ds.drop(columns=\"SegmentID\", inplace=True)"
   ]
  },
  {
   "cell_type": "code",
   "execution_count": 42,
   "metadata": {},
   "outputs": [
    {
     "name": "stdout",
     "output_type": "stream",
     "text": [
      "       Yr  M   D  HH  MM  Vol\n",
      "0       0  2  24  15   0   85\n",
      "1       0  2  24  15   1   92\n",
      "2       0  2  24  15   2   85\n",
      "3       0  2  24  15   3   98\n",
      "4       0  2  24  16   0   94\n",
      "...    .. ..  ..  ..  ..  ...\n",
      "11312   2  1  21   4   3   18\n",
      "11313   2  1  21   5   0   14\n",
      "11314   2  1  21   5   1   24\n",
      "11315   2  1  21   5   2   23\n",
      "11316   2  1  21   5   3   29\n",
      "\n",
      "[11317 rows x 6 columns]\n"
     ]
    }
   ],
   "source": [
    "lookup_hash = {}\n",
    "\n",
    "categories = [\"Yr\", \"M\", \"D\", \"HH\", \"MM\"]\n",
    "\n",
    "for c in categories:\n",
    "    lookup_hash[c] = ds[c].astype(\"category\").cat.categories\n",
    "    ds[c] = ds[c].astype(\"category\", copy=False).cat.codes\n",
    "\n",
    "print(ds)"
   ]
  },
  {
   "cell_type": "code",
   "execution_count": null,
   "metadata": {},
   "outputs": [],
   "source": []
  }
 ],
 "metadata": {
  "kernelspec": {
   "display_name": "Python 3",
   "language": "python",
   "name": "python3"
  },
  "language_info": {
   "codemirror_mode": {
    "name": "ipython",
    "version": 3
   },
   "file_extension": ".py",
   "mimetype": "text/x-python",
   "name": "python",
   "nbconvert_exporter": "python",
   "pygments_lexer": "ipython3",
   "version": "3.10.13"
  }
 },
 "nbformat": 4,
 "nbformat_minor": 2
}
