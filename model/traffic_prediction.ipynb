{
 "cells": [
  {
   "cell_type": "code",
   "execution_count": 38,
   "metadata": {},
   "outputs": [],
   "source": [
    "from sklearn.model_selection import train_test_split\n",
    "from sklearn.preprocessing import MinMaxScaler\n",
    "import os\n",
    "import pandas as pd\n",
    "import numpy as np"
   ]
  },
  {
   "cell_type": "code",
   "execution_count": 39,
   "metadata": {},
   "outputs": [],
   "source": [
    "data_path = \"../data\"\n",
    "csv_data = f\"{data_path}/data.csv\"\n",
    "filtered_data = f\"{data_path}/filtered.csv\"\n",
    "segment_path = f\"{data_path}/segments\"\n",
    "segment_data = segment_path + \"/segment_{}.csv\""
   ]
  },
  {
   "cell_type": "code",
   "execution_count": 67,
   "metadata": {},
   "outputs": [],
   "source": [
    "learning_rate = 0.0000001\n",
    "epochs = 100\n",
    "batch_size = 32"
   ]
  },
  {
   "cell_type": "code",
   "execution_count": 68,
   "metadata": {},
   "outputs": [],
   "source": [
    "headers = {\n",
    "    \"RequestID\": str,\n",
    "    \"Boro\": str,\n",
    "    \"Yr\": str,\n",
    "    \"M\": str,\n",
    "    \"D\": str,\n",
    "    \"HH\": str,\n",
    "    \"MM\": str,\n",
    "    \"Vol\": str,\n",
    "    \"SegmentID\": str,\n",
    "    \"WktGeom\": str,\n",
    "    \"street\": str,\n",
    "    \"fromSt\": str,\n",
    "    \"toSt\": str,\n",
    "    \"Direction\": str\n",
    "}\n",
    "\n",
    "garbage_headers = [\n",
    "    \"RequestID\",\n",
    "    \"Boro\",\n",
    "    \"WktGeom\",\n",
    "    \"street\",\n",
    "    \"fromSt\",\n",
    "    \"toSt\",\n",
    "    \"Direction\"\n",
    "]\n",
    "\n",
    "needed_headers = {\n",
    "    \"Yr\": int,\n",
    "    \"M\": int,\n",
    "    \"D\": int,\n",
    "    \"HH\": int,\n",
    "    \"MM\": int,\n",
    "    \"Vol\": int,\n",
    "    \"SegmentID\": int,\n",
    "}\n",
    "\n",
    "if not os.path.exists(filtered_data):\n",
    "    os.mkdir(data_path) if not os.path.exists(data_path) else ...\n",
    "    ds = pd.read_csv(csv_data, header=None, names=list(headers.keys()), dtype=headers)\n",
    "    for h in garbage_headers:\n",
    "        ds.drop(columns=h, inplace=True)\n",
    "    ds.drop(ds.index[0], axis=\"index\", inplace=True)\n",
    "    for column in needed_headers.keys():\n",
    "        ds[column].astype(int, copy=False)\n",
    "    ds.to_csv(filtered_data, header=None, index=None)"
   ]
  },
  {
   "cell_type": "code",
   "execution_count": 69,
   "metadata": {},
   "outputs": [],
   "source": [
    "ds = pd.read_csv(filtered_data, header=None, names=list(needed_headers.keys()), dtype=needed_headers)"
   ]
  },
  {
   "cell_type": "code",
   "execution_count": 70,
   "metadata": {},
   "outputs": [],
   "source": [
    "if not os.path.exists(segment_path):\n",
    "    os.mkdir(segment_path)\n",
    "    for segmentID in ds[\"SegmentID\"].unique():\n",
    "        ds.loc[ds[\"SegmentID\"] == segmentID].to_csv(segment_data.format(segmentID), header=None, index=None)"
   ]
  },
  {
   "cell_type": "code",
   "execution_count": 71,
   "metadata": {},
   "outputs": [],
   "source": [
    "segmentID = 83624  # Largest Segment\n",
    "\n",
    "ds = pd.read_csv(segment_data.format(segmentID), header=None, names=list(needed_headers.keys()), dtype=needed_headers)\n",
    "ds.drop(columns=\"SegmentID\", inplace=True)"
   ]
  },
  {
   "cell_type": "code",
   "execution_count": 72,
   "metadata": {},
   "outputs": [],
   "source": [
    "lookup_hash = {}\n",
    "\n",
    "categories = [\"Yr\", \"M\", \"D\", \"HH\", \"MM\"]\n",
    "\n",
    "dep = ds[\"Vol\"]\n",
    "ds.drop(columns=\"Vol\", inplace=True)  # independent variable\n",
    "\n",
    "for c in categories:\n",
    "    lookup_hash[c] = ds[c].astype(\"category\").cat.categories\n",
    "    ds[c] = ds[c].astype(\"category\", copy=False).cat.codes"
   ]
  },
  {
   "cell_type": "code",
   "execution_count": 73,
   "metadata": {},
   "outputs": [],
   "source": [
    "mms = MinMaxScaler()\n",
    "dep = mms.fit_transform(dep.values.reshape(-1, 1))"
   ]
  },
  {
   "cell_type": "code",
   "execution_count": 74,
   "metadata": {},
   "outputs": [],
   "source": [
    "ind_train, ind_test, dep_train, dep_test = train_test_split(ds, dep, test_size=0.2)"
   ]
  },
  {
   "cell_type": "code",
   "execution_count": 75,
   "metadata": {},
   "outputs": [],
   "source": [
    "def mse_loss(actual, predicted):\n",
    "    return np.mean(np.square(actual - predicted))"
   ]
  },
  {
   "cell_type": "code",
   "execution_count": 76,
   "metadata": {},
   "outputs": [],
   "source": [
    "def sgd_update(ind_batch, dep_batch, weights, bias):\n",
    "    # Forward pass\n",
    "    predictions = np.dot(ind_batch, weights) + bias\n",
    "    # Calculate gradients\n",
    "    d_loss_d_predictions = 2 * (predictions - dep_batch)  # Derivative of MSE loss w.r.t. predictions\n",
    "    de_predictions_d_weights = ind_batch  # Derivative of predictions w.r.t weights\n",
    "    d_loss_d_bias = np.sum(d_loss_d_predictions)  # Derivative of MSE loss w.r.t. bias\n",
    "\n",
    "    # Update weights and bias using SGD\n",
    "    weights -= learning_rate * np.mean(de_predictions_d_weights, axis=0)\n",
    "    bias -= learning_rate * d_loss_d_bias\n",
    "\n",
    "    return weights, bias"
   ]
  },
  {
   "cell_type": "code",
   "execution_count": 77,
   "metadata": {},
   "outputs": [
    {
     "name": "stdout",
     "output_type": "stream",
     "text": [
      "[0.61548608 0.51541087 0.22364216 0.5686094  0.73364524] 0\n"
     ]
    }
   ],
   "source": [
    "weights = np.random.rand(ds.shape[1])\n",
    "bias = 0\n",
    "\n",
    "print(weights, bias)"
   ]
  },
  {
   "cell_type": "code",
   "execution_count": 78,
   "metadata": {},
   "outputs": [],
   "source": [
    "ind_batch = ind_train[:batch_size]\n",
    "dep_batch = dep_train[:batch_size]\n",
    "\n",
    "weights, bias = sgd_update(ind_batch, dep_batch, weights, bias)"
   ]
  },
  {
   "cell_type": "code",
   "execution_count": 79,
   "metadata": {},
   "outputs": [
    {
     "name": "stdout",
     "output_type": "stream",
     "text": [
      "Epoch 1/100, Training Loss: 150.12518662632414\n",
      "Epoch 2/100, Training Loss: 135.4399210899621\n",
      "Epoch 3/100, Training Loss: 122.3712063484896\n",
      "Epoch 4/100, Training Loss: 110.74147753565921\n",
      "Epoch 5/100, Training Loss: 100.39263540949348\n",
      "Epoch 6/100, Training Loss: 91.18391459748905\n",
      "Epoch 7/100, Training Loss: 82.98998517639647\n",
      "Epoch 8/100, Training Loss: 75.69926205344387\n",
      "Epoch 9/100, Training Loss: 69.21239940948321\n",
      "Epoch 10/100, Training Loss: 63.44094995255555\n",
      "Epoch 11/100, Training Loss: 58.30617094615749\n",
      "Epoch 12/100, Training Loss: 53.737960949877404\n",
      "Epoch 13/100, Training Loss: 49.673912967550905\n",
      "Epoch 14/100, Training Loss: 46.058471263278484\n",
      "Epoch 15/100, Training Loss: 42.842180499611906\n",
      "Epoch 16/100, Training Loss: 39.98101709366088\n",
      "Epoch 17/100, Training Loss: 37.435793792490585\n",
      "Epoch 18/100, Training Loss: 35.17162945383927\n",
      "Epoch 19/100, Training Loss: 33.157476895116126\n",
      "Epoch 20/100, Training Loss: 31.365702454609917\n",
      "Epoch 21/100, Training Loss: 29.771711604379384\n",
      "Epoch 22/100, Training Loss: 28.353615573727357\n",
      "Epoch 23/100, Training Loss: 27.091934493813582\n",
      "Epoch 24/100, Training Loss: 25.969333065267982\n",
      "Epoch 25/100, Training Loss: 24.970385188199852\n",
      "Epoch 26/100, Training Loss: 24.081364383675357\n",
      "Epoch 27/100, Training Loss: 23.290057182760588\n",
      "Epoch 28/100, Training Loss: 22.58559696828946\n",
      "Epoch 29/100, Training Loss: 21.958316029759512\n",
      "Epoch 30/100, Training Loss: 21.399613836879453\n",
      "Epoch 31/100, Training Loss: 20.901839755596445\n",
      "Epoch 32/100, Training Loss: 20.45818862484493\n",
      "Epoch 33/100, Training Loss: 20.062607785398004\n",
      "Epoch 34/100, Training Loss: 19.709714306397593\n",
      "Epoch 35/100, Training Loss: 19.394721292454697\n",
      "Epoch 36/100, Training Loss: 19.11337227651172\n",
      "Epoch 37/100, Training Loss: 18.861882812558676\n",
      "Epoch 38/100, Training Loss: 18.636888479292153\n",
      "Epoch 39/100, Training Loss: 18.43539859218104\n",
      "Epoch 40/100, Training Loss: 18.254754998322145\n",
      "Epoch 41/100, Training Loss: 18.09259539697655\n",
      "Epoch 42/100, Training Loss: 17.946820689680344\n",
      "Epoch 43/100, Training Loss: 17.815565918156928\n",
      "Epoch 44/100, Training Loss: 17.697174396634626\n",
      "Epoch 45/100, Training Loss: 17.59017468826332\n",
      "Epoch 46/100, Training Loss: 17.49326011369532\n",
      "Epoch 47/100, Training Loss: 17.405270514060554\n",
      "Epoch 48/100, Training Loss: 17.325176020999926\n",
      "Epoch 49/100, Training Loss: 17.252062613518476\n",
      "Epoch 50/100, Training Loss: 17.185119265547392\n",
      "Epoch 51/100, Training Loss: 17.123626509597667\n",
      "Epoch 52/100, Training Loss: 17.06694626102332\n",
      "Epoch 53/100, Training Loss: 17.01451276445096\n",
      "Epoch 54/100, Training Loss: 16.965824539112585\n",
      "Epoch 55/100, Training Loss: 16.92043721332481\n",
      "Epoch 56/100, Training Loss: 16.87795715039795\n",
      "Epoch 57/100, Training Loss: 16.83803577897009\n",
      "Epoch 58/100, Training Loss: 16.80036455030252\n",
      "Epoch 59/100, Training Loss: 16.764670453573547\n",
      "Epoch 60/100, Training Loss: 16.730712027768178\n",
      "Epoch 61/100, Training Loss: 16.69827581550304\n",
      "Epoch 62/100, Training Loss: 16.667173210120566\n",
      "Epoch 63/100, Training Loss: 16.637237652732814\n",
      "Epoch 64/100, Training Loss: 16.608322140645697\n",
      "Epoch 65/100, Training Loss: 16.58029701283419\n",
      "Epoch 66/100, Training Loss: 16.55304798190858\n",
      "Epoch 67/100, Training Loss: 16.52647438536651\n",
      "Epoch 68/100, Training Loss: 16.500487631918187\n",
      "Epoch 69/100, Training Loss: 16.475009821333924\n",
      "Epoch 70/100, Training Loss: 16.44997251862842\n",
      "Epoch 71/100, Training Loss: 16.425315665511576\n",
      "Epoch 72/100, Training Loss: 16.400986613909517\n",
      "Epoch 73/100, Training Loss: 16.37693926803521\n",
      "Epoch 74/100, Training Loss: 16.35313332297367\n",
      "Epoch 75/100, Training Loss: 16.329533589074323\n",
      "Epoch 76/100, Training Loss: 16.306109392622893\n",
      "Epoch 77/100, Training Loss: 16.2828340443128\n",
      "Epoch 78/100, Training Loss: 16.2596843679751\n",
      "Epoch 79/100, Training Loss: 16.23664028285595\n",
      "Epoch 80/100, Training Loss: 16.213684433469858\n",
      "Epoch 81/100, Training Loss: 16.190801861720324\n",
      "Epoch 82/100, Training Loss: 16.167979716563476\n",
      "Epoch 83/100, Training Loss: 16.145206997013158\n",
      "Epoch 84/100, Training Loss: 16.12247432475018\n",
      "Epoch 85/100, Training Loss: 16.09977374301644\n",
      "Epoch 86/100, Training Loss: 16.077098538835223\n",
      "Epoch 87/100, Training Loss: 16.054443085934118\n",
      "Epoch 88/100, Training Loss: 16.03180270603401\n",
      "Epoch 89/100, Training Loss: 16.009173546428084\n",
      "Epoch 90/100, Training Loss: 15.98655247200707\n",
      "Epoch 91/100, Training Loss: 15.963936970090272\n",
      "Epoch 92/100, Training Loss: 15.941325066605463\n",
      "Epoch 93/100, Training Loss: 15.918715252324382\n",
      "Epoch 94/100, Training Loss: 15.89610641800207\n",
      "Epoch 95/100, Training Loss: 15.873497797401182\n",
      "Epoch 96/100, Training Loss: 15.850888917292407\n",
      "Epoch 97/100, Training Loss: 15.82827955362751\n",
      "Epoch 98/100, Training Loss: 15.805669693168758\n",
      "Epoch 99/100, Training Loss: 15.783059499941965\n",
      "Epoch 100/100, Training Loss: 15.760449285949399\n"
     ]
    }
   ],
   "source": [
    "for epoch in range(epochs):\n",
    "    for i in range(0, len(ind_train), batch_size):\n",
    "        ind_batch = ind_train[i:i+batch_size]\n",
    "        dep_batch = dep_train[i:i+batch_size]\n",
    "        weights, bias = sgd_update(ind_batch, dep_batch, weights, bias)\n",
    "    train_loss = mse_loss(dep_train, np.dot(ind_train, weights) + bias)\n",
    "    print(f\"Epoch {epoch + 1}/{epochs}, Training Loss: {train_loss}\")"
   ]
  },
  {
   "cell_type": "code",
   "execution_count": 59,
   "metadata": {},
   "outputs": [
    {
     "name": "stdout",
     "output_type": "stream",
     "text": [
      "Test Loss: 18.496367652096474\n"
     ]
    }
   ],
   "source": [
    "dep_predict = np.dot(ind_test, weights) + bias\n",
    "test_loss = mse_loss(dep_test, dep_predict)\n",
    "print(f\"Test Loss: {test_loss}\")"
   ]
  },
  {
   "cell_type": "code",
   "execution_count": 61,
   "metadata": {},
   "outputs": [
    {
     "name": "stdout",
     "output_type": "stream",
     "text": [
      "[-5.1667832   9.39725581  0.28987171 ...  4.18322071 -0.66517954\n",
      " -2.46795435]\n",
      "[[0.2020202 ]\n",
      " [0.34343434]\n",
      " [0.42424242]\n",
      " ...\n",
      " [0.25252525]\n",
      " [0.21212121]\n",
      " [0.32323232]]\n"
     ]
    }
   ],
   "source": [
    "print(dep_predict)\n",
    "print(dep_test)"
   ]
  },
  {
   "cell_type": "code",
   "execution_count": null,
   "metadata": {},
   "outputs": [],
   "source": []
  }
 ],
 "metadata": {
  "kernelspec": {
   "display_name": "Python 3",
   "language": "python",
   "name": "python3"
  },
  "language_info": {
   "codemirror_mode": {
    "name": "ipython",
    "version": 3
   },
   "file_extension": ".py",
   "mimetype": "text/x-python",
   "name": "python",
   "nbconvert_exporter": "python",
   "pygments_lexer": "ipython3",
   "version": "3.10.13"
  }
 },
 "nbformat": 4,
 "nbformat_minor": 2
}
